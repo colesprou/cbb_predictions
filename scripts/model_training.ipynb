{
 "cells": [
  {
   "cell_type": "code",
   "execution_count": 1,
   "id": "76dbe9c9",
   "metadata": {},
   "outputs": [],
   "source": [
    "import pandas as pd\n",
    "import numpy as np"
   ]
  },
  {
   "cell_type": "code",
   "execution_count": 2,
   "id": "1aa19814",
   "metadata": {},
   "outputs": [],
   "source": [
    "df = pd.read_csv('/Users/colesprouse/Desktop/Projects/Personal Projects/sports_modeling/data/train_df.csv')"
   ]
  },
  {
   "cell_type": "code",
   "execution_count": 4,
   "id": "d4c21125",
   "metadata": {},
   "outputs": [],
   "source": [
    "df.drop('Unnamed: 0',axis=1,inplace=True)"
   ]
  },
  {
   "cell_type": "code",
   "execution_count": 6,
   "id": "3f696384",
   "metadata": {},
   "outputs": [
    {
     "data": {
      "text/plain": [
       "Index(['point_differential', 'home_offensive_efficiency',\n",
       "       'away_offensive_efficiency', 'home_defensive_efficiency',\n",
       "       'away_defensive_efficiency'],\n",
       "      dtype='object')"
      ]
     },
     "execution_count": 6,
     "metadata": {},
     "output_type": "execute_result"
    }
   ],
   "source": [
    "df.columns"
   ]
  },
  {
   "cell_type": "code",
   "execution_count": 8,
   "id": "ac10411e",
   "metadata": {},
   "outputs": [],
   "source": [
    "data = df"
   ]
  },
  {
   "cell_type": "code",
   "execution_count": 10,
   "id": "c6c285da",
   "metadata": {},
   "outputs": [
    {
     "name": "stdout",
     "output_type": "stream",
     "text": [
      "Collecting lightgbm\n",
      "  Obtaining dependency information for lightgbm from https://files.pythonhosted.org/packages/56/f3/6f77fe5fa45722582e52efc2833288fa670abfbec57eea433e83820f5b90/lightgbm-4.1.0-py3-none-macosx_10_15_x86_64.macosx_11_6_x86_64.macosx_12_5_x86_64.whl.metadata\n",
      "  Downloading lightgbm-4.1.0-py3-none-macosx_10_15_x86_64.macosx_11_6_x86_64.macosx_12_5_x86_64.whl.metadata (19 kB)\n",
      "Requirement already satisfied: numpy in /Users/colesprouse/anaconda3/lib/python3.11/site-packages (from lightgbm) (1.24.3)\n",
      "Requirement already satisfied: scipy in /Users/colesprouse/anaconda3/lib/python3.11/site-packages (from lightgbm) (1.10.1)\n",
      "Downloading lightgbm-4.1.0-py3-none-macosx_10_15_x86_64.macosx_11_6_x86_64.macosx_12_5_x86_64.whl (1.7 MB)\n",
      "\u001b[2K   \u001b[90m━━━━━━━━━━━━━━━━━━━━━━━━━━━━━━━━━━━━━━━━\u001b[0m \u001b[32m1.7/1.7 MB\u001b[0m \u001b[31m21.8 MB/s\u001b[0m eta \u001b[36m0:00:00\u001b[0m00:01\u001b[0m00:01\u001b[0m\n",
      "\u001b[?25hInstalling collected packages: lightgbm\n",
      "Successfully installed lightgbm-4.1.0\n",
      "Note: you may need to restart the kernel to use updated packages.\n"
     ]
    }
   ],
   "source": [
    "pip install lightgbm"
   ]
  },
  {
   "cell_type": "code",
   "execution_count": 13,
   "id": "6e678ddc",
   "metadata": {},
   "outputs": [
    {
     "data": {
      "text/plain": [
       "{'Random Forest': 0.9973426576180144, 'XGBoost': 0.9938437763315187}"
      ]
     },
     "execution_count": 13,
     "metadata": {},
     "output_type": "execute_result"
    }
   ],
   "source": [
    "from sklearn.model_selection import train_test_split\n",
    "from sklearn.ensemble import RandomForestRegressor\n",
    "from xgboost import XGBRegressor\n",
    "from sklearn.metrics import r2_score\n",
    "from sklearn.preprocessing import StandardScaler\n",
    "\n",
    "# Preparing the data\n",
    "X = data.drop(['point_differential'], axis=1)\n",
    "y = data['point_differential']\n",
    "\n",
    "# Splitting the data into training and testing sets\n",
    "X_train, X_test, y_train, y_test = train_test_split(X, y, test_size=0.2, random_state=42)\n",
    "\n",
    "# Standardizing the features\n",
    "scaler = StandardScaler()\n",
    "X_train_scaled = scaler.fit_transform(X_train)\n",
    "X_test_scaled = scaler.transform(X_test)\n",
    "\n",
    "# Initializing models\n",
    "rf_model = RandomForestRegressor(random_state=42)\n",
    "xgb_model = XGBRegressor(random_state=42)\n",
    "\n",
    "# Training and evaluating models\n",
    "models = [rf_model, xgb_model]\n",
    "model_names = ['Random Forest', 'XGBoost']\n",
    "r2_scores = {}\n",
    "\n",
    "for model, name in zip(models, model_names):\n",
    "    model.fit(X_train_scaled, y_train)\n",
    "    y_pred = model.predict(X_test_scaled)\n",
    "    r2_scores[name] = r2_score(y_test, y_pred)\n",
    "\n",
    "r2_scores\n",
    "\n",
    "\n",
    "\n",
    "from sklearn.metrics import mean_squared_error\n",
    "import numpy as np\n",
    "\n",
    "# RMSE scores for the models\n",
    "rmse_scores = {}\n",
    "\n",
    "for model, name in zip(models, model_names):\n",
    "    y_pred = model.predict(X_test_scaled)\n",
    "    rmse_scores[name] = np.sqrt(mean_squared_error(y_test, y_pred))\n",
    "\n",
    "# Predicting point differentials for a few samples from the test set\n",
    "sample_indices = [0, 1, 2, 3, 4]  # Sample index for prediction\n",
    "sample_X_test = X_test_scaled[sample_indices]\n",
    "sample_predictions = {}\n",
    "\n",
    "for model, name in zip(models, model_names):\n",
    "    sample_predictions[name] = model.predict(sample_X_test)\n",
    "\n",
    "rmse_scores, sample_predictions\n",
    "\n"
   ]
  },
  {
   "cell_type": "markdown",
   "id": "f2a67245",
   "metadata": {},
   "source": [
    "### Read in todays today"
   ]
  },
  {
   "cell_type": "code",
   "execution_count": 15,
   "id": "b0594c19",
   "metadata": {},
   "outputs": [],
   "source": [
    "nov_16 = pd.read_csv('/Users/colesprouse/Desktop/Projects/Personal Projects/sports_modeling/data/11_16Final.csv')"
   ]
  },
  {
   "cell_type": "code",
   "execution_count": 20,
   "id": "9881d21c",
   "metadata": {},
   "outputs": [],
   "source": [
    "nov_16.drop('Unnamed: 0',axis=1,inplace=True)\n",
    "nov_16.dropna(inplace=True)"
   ]
  },
  {
   "cell_type": "code",
   "execution_count": 25,
   "id": "866d293a",
   "metadata": {},
   "outputs": [],
   "source": [
    "\n",
    "def predict_point_differential(input_df, scaler, rf_model):\n",
    "    # Extracting the necessary features\n",
    "    features = input_df[['home_offensive_efficiency', 'away_offensive_efficiency',\n",
    "                         'home_defensive_efficiency', 'away_defensive_efficiency']]\n",
    "    \n",
    "    # Scaling the features\n",
    "    features_scaled = scaler.transform(features)\n",
    "    \n",
    "    # Predicting the point differential\n",
    "    predicted_diff = rf_model.predict(features_scaled)\n",
    "    \n",
    "    # Constructing the output dataframe\n",
    "    output_df = input_df[['home_team', 'away_team', 'home_point_spread']].copy()\n",
    "    output_df['predicted_point_differential'] = predicted_diff\n",
    "    \n",
    "    return output_df\n"
   ]
  },
  {
   "cell_type": "code",
   "execution_count": 27,
   "id": "c6d7d465",
   "metadata": {},
   "outputs": [],
   "source": [
    "rdf = predict_point_differential(nov_16,scaler,rf_model)"
   ]
  },
  {
   "cell_type": "code",
   "execution_count": 39,
   "id": "bba5ccd6",
   "metadata": {},
   "outputs": [],
   "source": [
    "def bet_suggestions(df):\n",
    "    \"\"\"\n",
    "    Adds a 'Bet Suggestion' column to the dataframe based on the logic.\n",
    "\n",
    "    Parameters:\n",
    "    df (DataFrame): DataFrame with columns 'home_point_spread' and 'predicted_point_differential'.\n",
    "\n",
    "    Returns:\n",
    "    DataFrame: Original DataFrame with an added 'Bet Suggestion' column.\n",
    "    \"\"\"\n",
    "    bet_suggestions = []\n",
    "\n",
    "    for _, row in df.iterrows():\n",
    "        spread_abs = abs(row['home_point_spread'])\n",
    "        ppd = row['predicted_point_differential']\n",
    "\n",
    "        if ppd > 0:\n",
    "            if spread_abs < ppd:\n",
    "                suggestion = f\"Bet on {row['home_team']}\"\n",
    "            else:\n",
    "                suggestion = f\"Bet on {row['away_team']}\"\n",
    "        else:  # ppd < 0\n",
    "            if spread_abs > abs(ppd):\n",
    "                suggestion = f\"Bet on {row['away_team']}\"\n",
    "            else:\n",
    "                suggestion = f\"Bet on {row['home_team']}\"\n",
    "\n",
    "        bet_suggestions.append(suggestion)\n",
    "\n",
    "    df['Bet Suggestion'] = bet_suggestions\n",
    "    return df\n",
    "\n",
    "# Apply the function to your dataframe\n",
    "result_df = bet_suggestions(rdf)\n"
   ]
  },
  {
   "cell_type": "code",
   "execution_count": 40,
   "id": "e2190572",
   "metadata": {},
   "outputs": [
    {
     "data": {
      "text/html": [
       "<div>\n",
       "<style scoped>\n",
       "    .dataframe tbody tr th:only-of-type {\n",
       "        vertical-align: middle;\n",
       "    }\n",
       "\n",
       "    .dataframe tbody tr th {\n",
       "        vertical-align: top;\n",
       "    }\n",
       "\n",
       "    .dataframe thead th {\n",
       "        text-align: right;\n",
       "    }\n",
       "</style>\n",
       "<table border=\"1\" class=\"dataframe\">\n",
       "  <thead>\n",
       "    <tr style=\"text-align: right;\">\n",
       "      <th></th>\n",
       "      <th>home_team</th>\n",
       "      <th>away_team</th>\n",
       "      <th>home_point_spread</th>\n",
       "      <th>predicted_point_differential</th>\n",
       "      <th>Bet Suggestion</th>\n",
       "    </tr>\n",
       "  </thead>\n",
       "  <tbody>\n",
       "    <tr>\n",
       "      <th>1</th>\n",
       "      <td>Montana</td>\n",
       "      <td>North Dakota State</td>\n",
       "      <td>-8.0</td>\n",
       "      <td>8.57</td>\n",
       "      <td>Bet on Montana</td>\n",
       "    </tr>\n",
       "    <tr>\n",
       "      <th>2</th>\n",
       "      <td>Minnesota</td>\n",
       "      <td>Missouri</td>\n",
       "      <td>2.0</td>\n",
       "      <td>9.43</td>\n",
       "      <td>Bet on Minnesota</td>\n",
       "    </tr>\n",
       "    <tr>\n",
       "      <th>3</th>\n",
       "      <td>William &amp; Mary</td>\n",
       "      <td>Omaha</td>\n",
       "      <td>1.0</td>\n",
       "      <td>7.79</td>\n",
       "      <td>Bet on William &amp; Mary</td>\n",
       "    </tr>\n",
       "    <tr>\n",
       "      <th>4</th>\n",
       "      <td>Notre Dame</td>\n",
       "      <td>Auburn</td>\n",
       "      <td>14.5</td>\n",
       "      <td>-3.29</td>\n",
       "      <td>Bet on Auburn</td>\n",
       "    </tr>\n",
       "    <tr>\n",
       "      <th>6</th>\n",
       "      <td>North Florida</td>\n",
       "      <td>Presbyterian</td>\n",
       "      <td>7.5</td>\n",
       "      <td>6.30</td>\n",
       "      <td>Bet on Presbyterian</td>\n",
       "    </tr>\n",
       "    <tr>\n",
       "      <th>7</th>\n",
       "      <td>New Mexico</td>\n",
       "      <td>UT Arlington</td>\n",
       "      <td>-14.0</td>\n",
       "      <td>-13.96</td>\n",
       "      <td>Bet on UT Arlington</td>\n",
       "    </tr>\n",
       "    <tr>\n",
       "      <th>8</th>\n",
       "      <td>California</td>\n",
       "      <td>Montana State</td>\n",
       "      <td>-13.5</td>\n",
       "      <td>4.18</td>\n",
       "      <td>Bet on Montana State</td>\n",
       "    </tr>\n",
       "    <tr>\n",
       "      <th>9</th>\n",
       "      <td>Hawaii</td>\n",
       "      <td>Niagara</td>\n",
       "      <td>-13.5</td>\n",
       "      <td>11.30</td>\n",
       "      <td>Bet on Niagara</td>\n",
       "    </tr>\n",
       "    <tr>\n",
       "      <th>10</th>\n",
       "      <td>Wake Forest</td>\n",
       "      <td>Utah</td>\n",
       "      <td>6.0</td>\n",
       "      <td>6.45</td>\n",
       "      <td>Bet on Wake Forest</td>\n",
       "    </tr>\n",
       "    <tr>\n",
       "      <th>11</th>\n",
       "      <td>Southern Illinois</td>\n",
       "      <td>Chicago State</td>\n",
       "      <td>-12.5</td>\n",
       "      <td>8.59</td>\n",
       "      <td>Bet on Chicago State</td>\n",
       "    </tr>\n",
       "    <tr>\n",
       "      <th>12</th>\n",
       "      <td>Tulsa</td>\n",
       "      <td>Jackson State</td>\n",
       "      <td>-11.5</td>\n",
       "      <td>17.85</td>\n",
       "      <td>Bet on Tulsa</td>\n",
       "    </tr>\n",
       "  </tbody>\n",
       "</table>\n",
       "</div>"
      ],
      "text/plain": [
       "            home_team           away_team  home_point_spread  \\\n",
       "1             Montana  North Dakota State               -8.0   \n",
       "2           Minnesota            Missouri                2.0   \n",
       "3      William & Mary               Omaha                1.0   \n",
       "4          Notre Dame              Auburn               14.5   \n",
       "6       North Florida        Presbyterian                7.5   \n",
       "7          New Mexico        UT Arlington              -14.0   \n",
       "8          California       Montana State              -13.5   \n",
       "9              Hawaii             Niagara              -13.5   \n",
       "10        Wake Forest                Utah                6.0   \n",
       "11  Southern Illinois       Chicago State              -12.5   \n",
       "12              Tulsa       Jackson State              -11.5   \n",
       "\n",
       "    predicted_point_differential         Bet Suggestion  \n",
       "1                           8.57         Bet on Montana  \n",
       "2                           9.43       Bet on Minnesota  \n",
       "3                           7.79  Bet on William & Mary  \n",
       "4                          -3.29          Bet on Auburn  \n",
       "6                           6.30    Bet on Presbyterian  \n",
       "7                         -13.96    Bet on UT Arlington  \n",
       "8                           4.18   Bet on Montana State  \n",
       "9                          11.30         Bet on Niagara  \n",
       "10                          6.45     Bet on Wake Forest  \n",
       "11                          8.59   Bet on Chicago State  \n",
       "12                         17.85           Bet on Tulsa  "
      ]
     },
     "execution_count": 40,
     "metadata": {},
     "output_type": "execute_result"
    }
   ],
   "source": [
    "result_df"
   ]
  },
  {
   "cell_type": "code",
   "execution_count": 41,
   "id": "45269b44",
   "metadata": {},
   "outputs": [
    {
     "name": "stdout",
     "output_type": "stream",
     "text": [
      "Requirement already satisfied: joblib in /Users/colesprouse/anaconda3/lib/python3.11/site-packages (1.2.0)\n",
      "Note: you may need to restart the kernel to use updated packages.\n"
     ]
    }
   ],
   "source": [
    "pip install joblib"
   ]
  },
  {
   "cell_type": "code",
   "execution_count": 42,
   "id": "91852647",
   "metadata": {},
   "outputs": [
    {
     "data": {
      "text/plain": [
       "['/Users/colesprouse/Desktop/Projects/Personal Projects/sports_modeling/random_forest_model.joblib']"
      ]
     },
     "execution_count": 42,
     "metadata": {},
     "output_type": "execute_result"
    }
   ],
   "source": [
    "import joblib\n",
    "\n",
    "# Save the scaler\n",
    "joblib.dump(scaler, '/Users/colesprouse/Desktop/Projects/Personal Projects/sports_modeling/scaler.joblib')\n",
    "\n",
    "# Save the Random Forest model\n",
    "joblib.dump(rf_model, '/Users/colesprouse/Desktop/Projects/Personal Projects/sports_modeling/random_forest_model.joblib')\n"
   ]
  },
  {
   "cell_type": "code",
   "execution_count": null,
   "id": "59a5d642",
   "metadata": {},
   "outputs": [],
   "source": []
  }
 ],
 "metadata": {
  "kernelspec": {
   "display_name": "Python 3 (ipykernel)",
   "language": "python",
   "name": "python3"
  },
  "language_info": {
   "codemirror_mode": {
    "name": "ipython",
    "version": 3
   },
   "file_extension": ".py",
   "mimetype": "text/x-python",
   "name": "python",
   "nbconvert_exporter": "python",
   "pygments_lexer": "ipython3",
   "version": "3.11.4"
  }
 },
 "nbformat": 4,
 "nbformat_minor": 5
}
